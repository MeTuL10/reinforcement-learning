{
 "cells": [
  {
   "attachments": {},
   "cell_type": "markdown",
   "metadata": {},
   "source": [
    "REINFORCEMENT LEARNING DA1\n",
    "\n",
    "METUL PRABHU\n",
    "\n",
    "20BRS1101"
   ]
  },
  {
   "attachments": {},
   "cell_type": "markdown",
   "metadata": {},
   "source": [
    "FROZEN LAKE"
   ]
  },
  {
   "cell_type": "code",
   "execution_count": 1,
   "metadata": {},
   "outputs": [
    {
     "name": "stdout",
     "output_type": "stream",
     "text": [
      "Discrete(4)\n",
      "Discrete(16)\n",
      "(0, 1)\n",
      "\n",
      "The state sequence: [0, 0, 0, 0, 1, 0, 4, 8, 8, 8, 4, 0, 0, 0, 4, 0, 4, 8, 4, 5]\n",
      "the rewards and total: [0.0, 0.0, 0.0, 0.0, 0.0, 0.0, 0.0, 0.0, 0.0, 0.0, 0.0, 0.0, 0.0, 0.0, 0.0, 0.0, 0.0, 0.0, 0.0, 0.0] 0.0\n",
      "\n",
      "The state sequence: [0, 1, 5]\n",
      "the rewards and total: [0.0, 0.0, 0.0] 0.0\n",
      "\n",
      "The state sequence: [0, 1, 5]\n",
      "the rewards and total: [0.0, 0.0, 0.0] 0.0\n",
      "\n",
      "The state sequence: [1, 0, 4, 8, 12]\n",
      "the rewards and total: [0.0, 0.0, 0.0, 0.0, 0.0] 0.0\n",
      "\n",
      "The state sequence: [0, 0, 4, 4, 4, 4, 4, 4, 0, 4, 0, 4, 5]\n",
      "the rewards and total: [0.0, 0.0, 0.0, 0.0, 0.0, 0.0, 0.0, 0.0, 0.0, 0.0, 0.0, 0.0, 0.0] 0.0\n",
      "\n",
      "The state sequence: [0, 1, 2, 2, 2, 1, 1, 0, 0, 0, 1, 0, 1, 5]\n",
      "the rewards and total: [0.0, 0.0, 0.0, 0.0, 0.0, 0.0, 0.0, 0.0, 0.0, 0.0, 0.0, 0.0, 0.0, 0.0] 0.0\n",
      "\n",
      "The state sequence: [1, 2, 3, 7]\n",
      "the rewards and total: [0.0, 0.0, 0.0, 0.0] 0.0\n",
      "\n",
      "The state sequence: [0, 0, 1, 0, 1, 0, 0, 4, 0, 4, 8, 8, 4, 4, 4, 0, 0, 1, 2, 6, 2, 1, 2, 3, 3, 7]\n",
      "the rewards and total: [0.0, 0.0, 0.0, 0.0, 0.0, 0.0, 0.0, 0.0, 0.0, 0.0, 0.0, 0.0, 0.0, 0.0, 0.0, 0.0, 0.0, 0.0, 0.0, 0.0, 0.0, 0.0, 0.0, 0.0, 0.0, 0.0] 0.0\n",
      "\n",
      "The state sequence: [1, 2, 3, 2, 1, 0, 0, 1, 5]\n",
      "the rewards and total: [0.0, 0.0, 0.0, 0.0, 0.0, 0.0, 0.0, 0.0, 0.0] 0.0\n",
      "\n",
      "The state sequence: [4, 8, 12]\n",
      "the rewards and total: [0.0, 0.0, 0.0] 0.0\n",
      "\n",
      "The state sequence: [1, 1, 1, 1, 0, 0, 0, 1, 5]\n",
      "the rewards and total: [0.0, 0.0, 0.0, 0.0, 0.0, 0.0, 0.0, 0.0, 0.0] 0.0\n",
      "\n",
      "The state sequence: [1, 0, 0, 4, 8, 12]\n",
      "the rewards and total: [0.0, 0.0, 0.0, 0.0, 0.0, 0.0] 0.0\n",
      "\n",
      "The state sequence: [4, 4, 0, 4, 4, 8, 9, 13, 14, 10, 6, 2, 2, 3, 3, 3, 3, 3, 7]\n",
      "the rewards and total: [0.0, 0.0, 0.0, 0.0, 0.0, 0.0, 0.0, 0.0, 0.0, 0.0, 0.0, 0.0, 0.0, 0.0, 0.0, 0.0, 0.0, 0.0, 0.0] 0.0\n",
      "\n",
      "The state sequence: [0, 0, 0, 4, 4, 8, 9, 13, 12]\n",
      "the rewards and total: [0.0, 0.0, 0.0, 0.0, 0.0, 0.0, 0.0, 0.0, 0.0] 0.0\n",
      "\n",
      "The state sequence: [1, 0, 1, 5]\n",
      "the rewards and total: [0.0, 0.0, 0.0, 0.0] 0.0\n",
      "\n",
      "The state sequence: [0, 0, 0, 0, 1, 2, 3, 2, 3, 3, 3, 7]\n",
      "the rewards and total: [0.0, 0.0, 0.0, 0.0, 0.0, 0.0, 0.0, 0.0, 0.0, 0.0, 0.0, 0.0] 0.0\n",
      "\n",
      "The state sequence: [0, 0, 0, 1, 2, 3, 3, 2, 6, 10, 9, 5]\n",
      "the rewards and total: [0.0, 0.0, 0.0, 0.0, 0.0, 0.0, 0.0, 0.0, 0.0, 0.0, 0.0, 0.0] 0.0\n",
      "\n",
      "The state sequence: [0, 0, 4, 8, 9, 13, 9, 5]\n",
      "the rewards and total: [0.0, 0.0, 0.0, 0.0, 0.0, 0.0, 0.0, 0.0] 0.0\n",
      "\n",
      "The state sequence: [4, 5]\n",
      "the rewards and total: [0.0, 0.0] 0.0\n",
      "\n",
      "The state sequence: [4, 8, 12]\n",
      "the rewards and total: [0.0, 0.0, 0.0] 0.0\n",
      "\n",
      "The state sequence: [0, 0, 4, 4, 4, 5]\n",
      "the rewards and total: [0.0, 0.0, 0.0, 0.0, 0.0, 0.0] 0.0\n",
      "\n",
      "The state sequence: [4, 0, 0, 1, 2, 2, 3, 2, 1, 1, 5]\n",
      "the rewards and total: [0.0, 0.0, 0.0, 0.0, 0.0, 0.0, 0.0, 0.0, 0.0, 0.0, 0.0] 0.0\n",
      "\n",
      "The state sequence: [1, 2, 6, 10, 14, 15]\n",
      "the rewards and total: [0.0, 0.0, 0.0, 0.0, 0.0, 1.0] 1.0\n",
      "23\n"
     ]
    }
   ],
   "source": [
    "import gym\n",
    "\n",
    "env = gym.make(\"FrozenLake-v1\", render_mode=\"human\",is_slippery=True)\n",
    "env.action_space.seed(42)\n",
    "count=0\n",
    "observation, info = env.reset(seed=42)\n",
    "rewards=[]\n",
    "observations=[]\n",
    "print(env.action_space)\n",
    "print(env.observation_space)\n",
    "print(env.reward_range)\n",
    "for _ in range(1000):\n",
    "    observation, reward, terminated, truncated, info = env.step(env.action_space.sample())\n",
    "    rewards.append(reward)\n",
    "    observations.append(observation)\n",
    "    if reward==1:\n",
    "        observation, info = env.reset()\n",
    "        print(\"\\nThe state sequence:\",observations)\n",
    "        print(\"the rewards and total:\",rewards,sum(rewards))\n",
    "        print(count+1)\n",
    "        break\n",
    "    if terminated or truncated:\n",
    "        observation, info = env.reset()\n",
    "        print(\"\\nThe state sequence:\",observations)\n",
    "        print(\"the rewards and total:\",rewards,sum(rewards))\n",
    "        count+=1\n",
    "        rewards=[]\n",
    "        observations=[]\n",
    "\n",
    "env.close()"
   ]
  },
  {
   "attachments": {},
   "cell_type": "markdown",
   "metadata": {},
   "source": [
    "FROZEN LAKE UPDATED REWARDS"
   ]
  },
  {
   "cell_type": "code",
   "execution_count": 2,
   "metadata": {},
   "outputs": [],
   "source": [
    "class CustomFrozenLakeEnv(gym.Env):\n",
    "    def __init__(self, env):\n",
    "        self.env = env\n",
    "        \n",
    "    def step(self, action):\n",
    "        state, reward, done, info,prob= self.env.step(action)\n",
    "        # change the reward function here\n",
    "        if state in [5,7,11,12]:\n",
    "            reward =-10\n",
    "        elif state==15:\n",
    "            reward=10\n",
    "        else:\n",
    "            reward = -1 # for example\n",
    "        #print(state, reward, done, info,prob)\n",
    "        return state, reward, done, info,prob\n",
    "    \n",
    "    def reset(self):\n",
    "        return self.env.reset()\n",
    "    \n",
    "    def render(self):\n",
    "        return self.env.render()\n",
    "\n",
    "custom_env = CustomFrozenLakeEnv(env)"
   ]
  },
  {
   "cell_type": "code",
   "execution_count": null,
   "metadata": {},
   "outputs": [],
   "source": [
    "import numpy as np\n",
    "done = False\n",
    "state = custom_env.reset()\n",
    "rewards=[]\n",
    "\n",
    "count=0\n",
    "for _ in range(1000):\n",
    "    observation, reward, terminated, truncated, info = custom_env.step(env.action_space.sample())\n",
    "    rewards.append(reward)\n",
    "    observations.append(observation)\n",
    "    if reward==10:\n",
    "        observation, info = custom_env.reset()\n",
    "        print(\"\\nThe state sequence:\",observations)\n",
    "        print(\"the rewards and total:\",rewards,sum(rewards))\n",
    "        print(count+1)\n",
    "        break\n",
    "    if terminated or truncated:\n",
    "        observation, info = custom_env.reset()\n",
    "        print(\"\\nThe state sequence:\",observations)\n",
    "        print(\"the rewards and total:\",rewards,sum(rewards))\n",
    "        count+=1\n",
    "        rewards=[]\n",
    "        observations=[]\n",
    "\n",
    "env.close()"
   ]
  },
  {
   "cell_type": "code",
   "execution_count": 4,
   "metadata": {},
   "outputs": [
    {
     "name": "stdout",
     "output_type": "stream",
     "text": [
      "Discrete(4)\n",
      "Discrete(16)\n"
     ]
    }
   ],
   "source": [
    "print(env.action_space)\n",
    "print(env.observation_space)"
   ]
  },
  {
   "attachments": {},
   "cell_type": "markdown",
   "metadata": {},
   "source": [
    "VALUE ITERATION"
   ]
  },
  {
   "cell_type": "code",
   "execution_count": 6,
   "metadata": {},
   "outputs": [
    {
     "name": "stdout",
     "output_type": "stream",
     "text": [
      "[0.00449108 0.00515001 0.01243038 0.00378316 0.00960639 0.\n",
      " 0.03569265 0.         0.02707277 0.07934699 0.14053814 0.\n",
      " 0.         0.17244764 0.48726667 0.        ]\n"
     ]
    }
   ],
   "source": [
    "import numpy as np\n",
    "\n",
    "env = gym.make(\"FrozenLake-v1\",render_mode=\"human\")\n",
    "discount_factor = 0.7\n",
    "P = np.zeros((env.observation_space.n, env.action_space.n, env.observation_space.n))\n",
    "\n",
    "for s in range(env.observation_space.n):\n",
    "    for a in range(env.action_space.n):\n",
    "        for transition in env.P[s][a]:\n",
    "            prob, next_state, reward, done = transition\n",
    "            P[s, a, next_state] = prob\n",
    "\n",
    "R = np.zeros((env.observation_space.n, env.action_space.n, env.observation_space.n))\n",
    "for s in range(env.observation_space.n):\n",
    "    for a in range(env.action_space.n):\n",
    "        for transition in env.P[s][a]:\n",
    "            prob, next_state, reward, done = transition\n",
    "            R[s, a, next_state] = reward\n",
    "\n",
    "def value_iteration(P, R, discount_factor):\n",
    "    V = np.zeros(env.observation_space.n)\n",
    "    for i in range(100):\n",
    "        Q = np.zeros((env.observation_space.n, env.action_space.n))\n",
    "        for s in range(env.observation_space.n):\n",
    "            for a in range(env.action_space.n):\n",
    "                for next_s in range(env.observation_space.n):\n",
    "                    Q[s, a] += P[s, a, next_s] * (R[s, a, next_s] + discount_factor * V[next_s])\n",
    "                    \n",
    "        V = np.max(Q, axis=1)\n",
    "    return V\n",
    "\n",
    "# Compute the optimal value function\n",
    "\n",
    "V = value_iteration(P, R, discount_factor)\n",
    "print(V)"
   ]
  },
  {
   "cell_type": "code",
   "execution_count": 7,
   "metadata": {},
   "outputs": [
    {
     "name": "stdout",
     "output_type": "stream",
     "text": [
      "[0.0688909  0.06141457 0.07440976 0.05580732 0.09185454 0.\n",
      " 0.11220821 0.         0.14543635 0.24749695 0.29961759 0.\n",
      " 0.         0.3799359  0.63902015 0.        ]\n",
      "0\n",
      "0\n",
      "0\n",
      "0\n",
      "0\n",
      "0\n",
      "0\n",
      "0\n",
      "0\n",
      "0\n",
      "0\n",
      "0\n",
      "0\n",
      "3\n",
      "0\n",
      "0\n",
      "0\n",
      "0\n",
      "0\n",
      "0\n",
      "0\n",
      "0\n",
      "0\n",
      "0\n",
      "0\n",
      "0\n",
      "0\n",
      "0\n",
      "0\n",
      "3\n",
      "3\n",
      "1\n",
      "0\n",
      "1\n",
      "2\n",
      "2\n",
      "2\n",
      "2\n",
      "1\n",
      "0\n",
      "1\n",
      "2\n",
      "1\n",
      "2\n",
      "1\n",
      "2\n",
      "1\n",
      "0\n",
      "1\n"
     ]
    }
   ],
   "source": [
    "import numpy as np\n",
    "import gym\n",
    "\n",
    "env = gym.make(\"FrozenLake-v1\",render_mode=\"human\")\n",
    "\n",
    "value_function = np.zeros(env.observation_space.n)\n",
    "policy = np.zeros(env.observation_space.n)\n",
    "discount_factor = 0.9\n",
    "\n",
    "num_iterations = 1000\n",
    "for i in range(num_iterations):\n",
    "    new_value_function = np.copy(value_function)\n",
    "    for state in range(env.observation_space.n):\n",
    "        action_values =np.zeros(env.action_space.n)\n",
    "        for action in range(env.action_space.n):\n",
    "            for transition_prob, next_state, reward, done in env.P[state][action]:\n",
    "                action_values[action] += transition_prob * (reward + discount_factor * new_value_function[next_state])\n",
    "        best_action = np.argmax(action_values)\n",
    "        policy[state] = int(best_action)\n",
    "        policy=np.asarray(policy,dtype=\"int\")\n",
    "        new_value_function[state] = action_values[best_action]\n",
    "    value_function = np.copy(new_value_function)\n",
    "\n",
    "env.reset()\n",
    "state=0\n",
    "print(value_function)\n",
    "done = False\n",
    "while not done:\n",
    "    action = policy[state]\n",
    "    print(action)\n",
    "    next_state, reward, done, _,a = env.step(action)\n",
    "    env.render()\n",
    "    state = next_state\n"
   ]
  },
  {
   "cell_type": "code",
   "execution_count": 6,
   "metadata": {},
   "outputs": [
    {
     "data": {
      "text/plain": [
       "Text(0.5, 1.0, 'state value function of initial state vs discount factor')"
      ]
     },
     "execution_count": 6,
     "metadata": {},
     "output_type": "execute_result"
    },
    {
     "data": {
      "image/png": "[encoded data removed]",
      "text/plain": [
       "<Figure size 640x480 with 1 Axes>"
      ]
     },
     "metadata": {},
     "output_type": "display_data"
    }
   ],
   "source": [
    "import numpy as np\n",
    "import gym\n",
    "import matplotlib.pyplot as plt\n",
    "\n",
    "\n",
    "discount_factor = [0.1,0.2,0.3,0.4,0.5,0.6,0.7,0.8,0.9]\n",
    "val0=[]\n",
    "num_iterations = 1000\n",
    "for d in discount_factor:\n",
    "    env = gym.make(\"FrozenLake-v1\",render_mode=\"human\")\n",
    "    value_function = np.zeros(env.observation_space.n)\n",
    "    policy = np.zeros(env.observation_space.n)\n",
    "    for i in range(num_iterations):\n",
    "        new_value_function = np.copy(value_function)\n",
    "        for state in range(env.observation_space.n):\n",
    "            action_values =np.zeros(env.action_space.n)\n",
    "            for action in range(env.action_space.n):\n",
    "                for transition_prob, next_state, reward, done in env.P[state][action]:\n",
    "                    action_values[action] += transition_prob * (reward + d * new_value_function[next_state])\n",
    "            best_action = np.argmax(action_values)\n",
    "            policy[state] = int(best_action)\n",
    "            policy=np.asarray(policy,dtype=\"int\")\n",
    "            new_value_function[state] = action_values[best_action]\n",
    "        value_function = np.copy(new_value_function)\n",
    "    val0.append(value_function[0])\n",
    "    env.reset()\n",
    "plt.plot(discount_factor,val0)\n",
    "plt.title(\"state value function of initial state vs discount factor\")"
   ]
  }
 ],
 "metadata": {
  "kernelspec": {
   "display_name": "gym",
   "language": "python",
   "name": "python3"
  },
  "language_info": {
   "codemirror_mode": {
    "name": "ipython",
    "version": 3
   },
   "file_extension": ".py",
   "mimetype": "text/x-python",
   "name": "python",
   "nbconvert_exporter": "python",
   "pygments_lexer": "ipython3",
   "version": "3.9.16"
  },
  "orig_nbformat": 4,
  "vscode": {
   "interpreter": {
    "hash": "bb5e3731ecaf263f433863a300b375545153b02e8730af39d7770c49b4646125"
   }
  }
 },
 "nbformat": 4,
 "nbformat_minor": 2
}
